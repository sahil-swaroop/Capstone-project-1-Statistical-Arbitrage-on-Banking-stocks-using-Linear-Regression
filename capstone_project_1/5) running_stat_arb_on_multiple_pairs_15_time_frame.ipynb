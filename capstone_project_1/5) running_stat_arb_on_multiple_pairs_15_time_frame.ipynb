{
 "cells": [
  {
   "cell_type": "markdown",
   "metadata": {},
   "source": [
    "### In this notebook every thing same as the previous notebook only diffrence is we are running statarb stratergy on 15min for all pairs"
   ]
  },
  {
   "cell_type": "code",
   "execution_count": 1,
   "metadata": {},
   "outputs": [
    {
     "data": {
      "text/html": [
       "        <script type=\"text/javascript\">\n",
       "        window.PlotlyConfig = {MathJaxConfig: 'local'};\n",
       "        if (window.MathJax) {MathJax.Hub.Config({SVG: {font: \"STIX-Web\"}});}\n",
       "        if (typeof require !== 'undefined') {\n",
       "        require.undef(\"plotly\");\n",
       "        requirejs.config({\n",
       "            paths: {\n",
       "                'plotly': ['https://cdn.plot.ly/plotly-latest.min']\n",
       "            }\n",
       "        });\n",
       "        require(['plotly'], function(Plotly) {\n",
       "            window._Plotly = Plotly;\n",
       "        });\n",
       "        }\n",
       "        </script>\n",
       "        "
      ]
     },
     "metadata": {},
     "output_type": "display_data"
    }
   ],
   "source": [
    "import pandas as pd \n",
    "import numpy as np \n",
    "import datetime \n",
    "import statsmodels.api as sm\n",
    "from statsmodels.tsa.stattools import adfuller\n",
    "import matplotlib.pyplot as plt\n",
    "import nsepy \n",
    "import os\n",
    "import cufflinks as cf\n",
    "%matplotlib inline \n",
    "plt.style.use('ggplot')"
   ]
  },
  {
   "cell_type": "code",
   "execution_count": 2,
   "metadata": {},
   "outputs": [],
   "source": [
    "def rolling_adf(series,rolling_n):\n",
    "\n",
    "    adf_values = list(np.zeros(rolling_n))\n",
    "    \n",
    "    for index,datetime in enumerate(series.index):\n",
    "\n",
    "        if index >= rolling_n:\n",
    "            start = index - rolling_n\n",
    "\n",
    "            ser = series.iloc[start:index]\n",
    "            adf = adfuller(ser, maxlag = 1)\n",
    "\n",
    "            adf_values.append(adf[0])\n",
    "            \n",
    "    return adf_values\n",
    "\n",
    "\n",
    "def bollinger_band(close_price,\n",
    "                   n,\n",
    "                   std):\n",
    "    \n",
    "    df = close_price.to_frame()\n",
    "    df[\"sma\"] = df.iloc[:,0].rolling(n).mean()\n",
    "    df[\"rolling_std\"] = df.iloc[:,0].rolling(n).std()\n",
    "    df[\"upper_band\"] = df.sma + (df.rolling_std * std) \n",
    "    df[\"lower_band\"] = df.sma - (df.rolling_std * std) \n",
    "    df[\"width\"] = df[\"upper_band\"] - df[\"lower_band\"]\n",
    "    df.dropna(inplace=True)\n",
    "    \n",
    "    return df"
   ]
  },
  {
   "cell_type": "code",
   "execution_count": 3,
   "metadata": {},
   "outputs": [],
   "source": [
    "def spread_prep(x_name,\n",
    "               y_name,\n",
    "               train_start,\n",
    "               train_end,\n",
    "               test_end,\n",
    "               resample_freq = \"D\",\n",
    "               rolling_adf_n = 400,\n",
    "               band_thresh = (2,2.5,3),\n",
    "               band_rolling_n = 60):\n",
    "    \n",
    "\n",
    "    path = 'C:\\\\Users\\\\sahil\\\\Documents\\\\learning\\\\springborad projects\\\\capstone_project_1\\\\data'\n",
    "\n",
    "\n",
    "    # reading x and y data \n",
    "    x = pd.read_csv(path + \"\\\\\" + x_name,index_col=0,parse_dates=True)\n",
    "    y = pd.read_csv(path + \"\\\\\" + y_name,index_col=0,parse_dates=True)\n",
    "    \n",
    "    # getting a datetime index\n",
    "    #x.index = pd.to_datetime(x.Date + \" \" + x.Time)\n",
    "    #y.index = pd.to_datetime(y.Date + \" \" + y.Time)\n",
    "\n",
    "    # getting close price of x and y convetring it into dataframes\n",
    "    x = x.Close.to_frame()\n",
    "    y = y.Close.to_frame()\n",
    "\n",
    "    x.columns = [x_name]\n",
    "    y.columns = [y_name]\n",
    "    \n",
    "    # concatnating x and y into one dataframe\n",
    "    df = pd.concat([x,y],axis = 1)\n",
    "\n",
    "    # dropping nan values that might have genrated after concatanting\n",
    "    df.dropna(inplace=True)\n",
    "    df.sort_index(inplace=True)\n",
    "    \n",
    "    # resample the df to desired freq and dropping nan if genrated after resampling \n",
    "    df = df.resample(resample_freq).last().dropna().copy()\n",
    "    \n",
    "    \n",
    "    # getting data from train_start to test end\n",
    "    df = df.loc[train_start:test_end].copy()\n",
    "\n",
    "    # getting training data ready \n",
    "    X_train = df.loc[train_start:train_end,x_name]\n",
    "    y_train = df.loc[train_start:train_end,y_name]\n",
    "\n",
    "\n",
    "    # training the model\n",
    "    model = sm.OLS(y_train,X_train)\n",
    "    model = model.fit()\n",
    "\n",
    "\n",
    "    # calculating spread on full train and test data \n",
    "    spread = (df.loc[:,y_name] - (df.loc[:,x_name] * model.params[0]))\n",
    "    spread.name = \"spread\"\n",
    "\n",
    "\n",
    "    spread = bollinger_band(spread,\n",
    "                            band_rolling_n,\n",
    "                            band_thresh[0])\n",
    "\n",
    "    # calculatin upper band  2 and 3\n",
    "    spread[\"upper_band2\"] = spread.sma + (spread.rolling_std * band_thresh[1])\n",
    "    spread[\"upper_band3\"] = spread.sma + (spread.rolling_std * band_thresh[2])\n",
    "\n",
    "    # getting lower band 2 and 3\n",
    "    spread[\"lower_band2\"] = spread.sma - (spread.rolling_std * band_thresh[1])\n",
    "    spread[\"lower_band3\"] = spread.sma - (spread.rolling_std * band_thresh[2])\n",
    "\n",
    "\n",
    "    # getting rolling adf value\n",
    "    spread[\"rolling_adf\"] = rolling_adf(spread.spread,\n",
    "                                        rolling_n=rolling_adf_n)\n",
    "    \n",
    "    return spread"
   ]
  },
  {
   "cell_type": "code",
   "execution_count": 4,
   "metadata": {},
   "outputs": [],
   "source": [
    "def mean_reversion_backtest(sample,\n",
    "                            test_start,\n",
    "                            test_end,\n",
    "                            adf_thresh = -2.5):\n",
    "\n",
    "    \n",
    "    sample = sample.loc[test_start:test_end].copy()\n",
    "    \n",
    "    # constant variables \n",
    "    thresh = adf_thresh\n",
    "\n",
    "    entry_time = []\n",
    "    exit_time = []\n",
    "\n",
    "    trade_side = []\n",
    "    adf_value = []\n",
    "\n",
    "    entry_price = []\n",
    "    exit_price = []\n",
    "\n",
    "    target_price = []\n",
    "    stop_price = []\n",
    "\n",
    "\n",
    "    # temp variables\n",
    "    trade_taken = False\n",
    "    target = 0\n",
    "    stop = 0\n",
    "    \n",
    "    # running backtest only on test data \n",
    "    for index,datetime in enumerate(sample.index):\n",
    "\n",
    "\n",
    "        # current data variables \n",
    "        current_datetime = datetime\n",
    "        current_spread = sample.iloc[index].loc[\"spread\"]\n",
    "        sma = sample.iloc[index].loc[\"sma\"]\n",
    "        adf = sample.iloc[index].loc[\"rolling_adf\"]\n",
    "\n",
    "        upper_band = sample.iloc[index].loc[\"upper_band\"]\n",
    "        upper_band2 = sample.iloc[index].loc[\"upper_band2\"]\n",
    "        upper_band3 = sample.iloc[index].loc[\"upper_band3\"]\n",
    "\n",
    "        lower_band = sample.iloc[index].loc[\"lower_band\"]\n",
    "        lower_band2 = sample.iloc[index].loc[\"lower_band2\"]\n",
    "        lower_band3 = sample.iloc[index].loc[\"lower_band3\"]\n",
    "\n",
    "\n",
    "        # stratergy logic below \n",
    "\n",
    "        # if any trade is not taken and adf value not below a desired thresh dont look for new trades \n",
    "        if (adf > thresh) and (trade_taken == False):\n",
    "            continue\n",
    "\n",
    "\n",
    "        # cheking for fresh short trade stop\n",
    "        elif ((current_spread >= upper_band) and (current_spread <= upper_band2)) and (trade_taken == False):\n",
    "\n",
    "            trade_taken = \"short_entered\"\n",
    "            target = sma\n",
    "            stop = upper_band3\n",
    "\n",
    "            # appending trade details\n",
    "            entry_time.append(current_datetime)\n",
    "            adf_value.append(adf)\n",
    "            trade_side.append(\"short\")\n",
    "            entry_price.append(current_spread)\n",
    "            target_price.append(target)\n",
    "            stop_price.append(stop)\n",
    "\n",
    "\n",
    "\n",
    "        # cheking for short trade stop\n",
    "        elif (trade_taken == \"short_entered\") and (current_spread > stop):\n",
    "\n",
    "            trade_taken = False\n",
    "\n",
    "            # appending trade details\n",
    "            exit_time.append(current_datetime)\n",
    "            exit_price.append(current_spread)\n",
    "\n",
    "\n",
    "        # cheking for short trade target \n",
    "        elif (trade_taken == \"short_entered\") and (current_spread < target):\n",
    "\n",
    "            trade_taken = False\n",
    "\n",
    "            # appending trade details\n",
    "            exit_time.append(current_datetime)\n",
    "            exit_price.append(current_spread)\n",
    "\n",
    "\n",
    "        # cheking for fresh long trade \n",
    "        elif ((current_spread < lower_band) and (current_spread > lower_band2)) and (trade_taken == False):\n",
    "\n",
    "            trade_taken = \"long_entered\"\n",
    "            target = sma\n",
    "            stop = lower_band3\n",
    "\n",
    "            # appending trade details\n",
    "            entry_time.append(current_datetime)\n",
    "            adf_value.append(adf)\n",
    "            trade_side.append(\"long\")\n",
    "            entry_price.append(current_spread)\n",
    "            target_price.append(target)\n",
    "            stop_price.append(stop)\n",
    "\n",
    "\n",
    "        # checking for long trade stop \n",
    "        elif (trade_taken == \"long_entered\") and (current_spread < stop):\n",
    "\n",
    "            trade_taken = False\n",
    "\n",
    "            # appending trade details\n",
    "            exit_time.append(current_datetime)\n",
    "            exit_price.append(current_spread)\n",
    "            \n",
    "\n",
    "        # checking for long trade target \n",
    "        elif (trade_taken == \"long_entered\") and (current_spread > target):\n",
    "\n",
    "            trade_taken = False\n",
    "\n",
    "            # appending trade details\n",
    "            exit_time.append(current_datetime)\n",
    "            exit_price.append(current_spread)\n",
    "\n",
    "\n",
    "\n",
    "\n",
    "        # if last data entry and we are still holding a trade then sqaure off the trade \n",
    "        elif (index == (len(sample) - 1)) and (trade_taken != False):\n",
    "\n",
    "            trade_taken = False\n",
    "\n",
    "            # appending trade details\n",
    "            exit_time.append(current_datetime)\n",
    "            exit_price.append(current_spread)\n",
    "            \n",
    "    \n",
    "    # creating a trade sheet out of all recorded trades details \n",
    "    trade_sheet = pd.DataFrame({\"entry_time\":entry_time,\n",
    "                               \"exit_time\":exit_time,\n",
    "                               \"adf_value\":adf_value,\n",
    "                               \"trade_side\":trade_side,\n",
    "                               \"adf_value\":adf_value,\n",
    "                               \"entry_price\":entry_price,\n",
    "                               \"exit_price\":exit_price,\n",
    "                               \"target_price\":target_price,\n",
    "                               \"stop_price\":stop_price})\n",
    "\n",
    "    # calculating pnl from trade sheet\n",
    "    trade_sheet[\"pnl\"] = 0\n",
    "    \n",
    "   \n",
    "    con_1 = trade_sheet.trade_side == \"short\"\n",
    "    con_2 = trade_sheet.trade_side == \"long\"\n",
    "\n",
    "    trade_sheet.loc[con_1,\"pnl\"] = trade_sheet.loc[con_1,\"entry_price\"] - trade_sheet.loc[con_1,\"exit_price\"]\n",
    "    trade_sheet.loc[con_2,\"pnl\"] = trade_sheet.loc[con_2,\"exit_price\"] - trade_sheet.loc[con_2,\"entry_price\"]\n",
    "    \n",
    "    return trade_sheet\n"
   ]
  },
  {
   "cell_type": "code",
   "execution_count": 5,
   "metadata": {},
   "outputs": [],
   "source": [
    "#pairs = sorted(pairs)\n",
    "\n",
    "#p = []\n",
    "#for pair in pairs:\n",
    "#    print(sorted(pair))\n",
    "#    p.append(str(sorted(pair)))\n",
    "    \n",
    "#p = pd.Series(p)\n",
    "#p.loc[~(p.duplicated())]"
   ]
  },
  {
   "cell_type": "code",
   "execution_count": 6,
   "metadata": {},
   "outputs": [],
   "source": [
    "### running stat arb stratergy on all pa"
   ]
  },
  {
   "cell_type": "code",
   "execution_count": 7,
   "metadata": {},
   "outputs": [],
   "source": [
    "pairs =    [['AXISBANK.csv', 'HDFC.csv'],\n",
    "        ['AXISBANK.csv', 'HDFCBANK.csv'],\n",
    "       ['AXISBANK.csv', 'KOTAKBANK.csv'],\n",
    "            ['AXISBANK.csv', 'SBIN.csv'],\n",
    "     ['BANKBARODA.csv', 'ICICIBANK.csv'],\n",
    "          ['BANKBARODA.csv', 'SBIN.csv'],\n",
    "       ['AXISBANK.csv', 'BANKNIFTY.csv'],\n",
    "           ['BANKNIFTY.csv', 'HDFC.csv'],\n",
    "       ['BANKNIFTY.csv', 'HDFCBANK.csv'],\n",
    "      ['BANKNIFTY.csv', 'ICICIBANK.csv'],\n",
    "     ['BANKNIFTY.csv', 'KOTAKBANK.csv'],\n",
    "          ['BANKNIFTY.csv', 'SBIN.csv'],\n",
    "           ['HDFC.csv', 'HDFCBANK.csv'],\n",
    "          ['HDFC.csv', 'KOTAKBANK.csv'],\n",
    "           ['HDFC.CSV', 'HDFCBANK.csv'],\n",
    "      ['HDFCBANK.csv', 'KOTAKBANK.csv'],\n",
    "          ['ICICIBANK.csv', 'SBIN.csv'],\n",
    "    ['BANKBARODA.csv', 'KOTAKBANK.csv'],\n",
    "         ['BANKBARODA.csv', 'SBIN.csv']]"
   ]
  },
  {
   "cell_type": "code",
   "execution_count": 8,
   "metadata": {
    "scrolled": false
   },
   "outputs": [
    {
     "name": "stdout",
     "output_type": "stream",
     "text": [
      "AXISBANK.csv   HDFC.csv\n",
      "AXISBANK.csv   HDFCBANK.csv\n",
      "AXISBANK.csv   KOTAKBANK.csv\n",
      "AXISBANK.csv   SBIN.csv\n",
      "BANKBARODA.csv   ICICIBANK.csv\n",
      "BANKBARODA.csv   SBIN.csv\n",
      "AXISBANK.csv   BANKNIFTY.csv\n",
      "BANKNIFTY.csv   HDFC.csv\n",
      "BANKNIFTY.csv   HDFCBANK.csv\n",
      "BANKNIFTY.csv   ICICIBANK.csv\n",
      "BANKNIFTY.csv   KOTAKBANK.csv\n",
      "BANKNIFTY.csv   SBIN.csv\n",
      "HDFC.csv   HDFCBANK.csv\n",
      "HDFC.csv   KOTAKBANK.csv\n",
      "HDFC.CSV   HDFCBANK.csv\n",
      "HDFCBANK.csv   KOTAKBANK.csv\n",
      "ICICIBANK.csv   SBIN.csv\n",
      "BANKBARODA.csv   KOTAKBANK.csv\n",
      "BANKBARODA.csv   SBIN.csv\n"
     ]
    }
   ],
   "source": [
    "# traing span\n",
    "train_start = \"2014\"\n",
    "train_end = \"2015\"\n",
    "\n",
    "# testing span\n",
    "test_start = \"2016\"\n",
    "test_end = \"2020\"\n",
    "\n",
    "resample_freq =  \"15T\" \n",
    "rolling_adf_n = 400  # rolling n for adf test\n",
    "band_thresh = (2,2.5,3)\n",
    "band_rolling_n = 60 \n",
    "adf_thresh  = -2.5 \n",
    "\n",
    "\n",
    "backtest = {}\n",
    "\n",
    "for x_name,y_name in pairs:\n",
    "    print(x_name,\" \",y_name)\n",
    "\n",
    "    data = spread_prep(x_name,\n",
    "                       y_name,\n",
    "                       train_start,\n",
    "                       train_end,\n",
    "                       test_end,\n",
    "                       resample_freq = resample_freq,\n",
    "                       rolling_adf_n = rolling_adf_n,\n",
    "                       band_thresh= band_thresh,\n",
    "                       band_rolling_n=band_rolling_n)\n",
    "\n",
    "    trade_sheet = mean_reversion_backtest(data,\n",
    "                                          test_start = test_start,\n",
    "                                          test_end = test_end,\n",
    "                                          adf_thresh=adf_thresh)\n",
    "\n",
    "    trade_sheet[\"pair\"] = x_name + \"_\" + y_name\n",
    "    backtest[x_name + \"_\" + y_name] = trade_sheet"
   ]
  },
  {
   "cell_type": "code",
   "execution_count": 9,
   "metadata": {},
   "outputs": [
    {
     "data": {
      "text/plain": [
       "dict_keys(['AXISBANK.csv_HDFC.csv', 'AXISBANK.csv_HDFCBANK.csv', 'AXISBANK.csv_KOTAKBANK.csv', 'AXISBANK.csv_SBIN.csv', 'BANKBARODA.csv_ICICIBANK.csv', 'BANKBARODA.csv_SBIN.csv', 'AXISBANK.csv_BANKNIFTY.csv', 'BANKNIFTY.csv_HDFC.csv', 'BANKNIFTY.csv_HDFCBANK.csv', 'BANKNIFTY.csv_ICICIBANK.csv', 'BANKNIFTY.csv_KOTAKBANK.csv', 'BANKNIFTY.csv_SBIN.csv', 'HDFC.csv_HDFCBANK.csv', 'HDFC.csv_KOTAKBANK.csv', 'HDFC.CSV_HDFCBANK.csv', 'HDFCBANK.csv_KOTAKBANK.csv', 'ICICIBANK.csv_SBIN.csv', 'BANKBARODA.csv_KOTAKBANK.csv'])"
      ]
     },
     "execution_count": 9,
     "metadata": {},
     "output_type": "execute_result"
    }
   ],
   "source": [
    "backtest.keys()"
   ]
  },
  {
   "cell_type": "code",
   "execution_count": 10,
   "metadata": {
    "scrolled": true
   },
   "outputs": [
    {
     "name": "stdout",
     "output_type": "stream",
     "text": [
      "AXISBANK.csv_HDFC.csv   102.25541319062211\n",
      "AXISBANK.csv_HDFCBANK.csv   195.19844423300424\n",
      "AXISBANK.csv_KOTAKBANK.csv   58.053574182156524\n",
      "AXISBANK.csv_SBIN.csv   91.40865003039568\n",
      "BANKBARODA.csv_ICICIBANK.csv   24.38601897136587\n",
      "BANKBARODA.csv_SBIN.csv   20.99135885258913\n",
      "AXISBANK.csv_BANKNIFTY.csv   10899.312569999474\n",
      "BANKNIFTY.csv_HDFC.csv   216.3427421053509\n",
      "BANKNIFTY.csv_HDFCBANK.csv   -33.73726912150346\n",
      "BANKNIFTY.csv_ICICIBANK.csv   4.923009952597425\n",
      "BANKNIFTY.csv_KOTAKBANK.csv   -82.8494049765012\n",
      "BANKNIFTY.csv_SBIN.csv   16.016611177712235\n",
      "HDFC.csv_HDFCBANK.csv   81.31980434702825\n",
      "HDFC.csv_KOTAKBANK.csv   111.44258259152048\n",
      "HDFC.CSV_HDFCBANK.csv   81.31980434702825\n",
      "HDFCBANK.csv_KOTAKBANK.csv   246.02289407324133\n",
      "ICICIBANK.csv_SBIN.csv   4.766456581653557\n",
      "BANKBARODA.csv_KOTAKBANK.csv   -87.73692828816252\n"
     ]
    }
   ],
   "source": [
    "bbb = pd.DataFrame(index = pd.date_range(start = \"2016\",end=\"2020\",freq = \"15min\"))\n",
    "\n",
    "for key in backtest.keys():\n",
    "    b = backtest[key]\n",
    "    b.set_index('entry_time',inplace=True)\n",
    "    bbb[key] = b.pnl\n",
    "    print(key,\" \" ,b.pnl.sum())"
   ]
  },
  {
   "cell_type": "code",
   "execution_count": 11,
   "metadata": {},
   "outputs": [],
   "source": [
    "bbb.fillna(0,inplace=True)"
   ]
  },
  {
   "cell_type": "markdown",
   "metadata": {},
   "source": [
    "### over all stratergy pnl "
   ]
  },
  {
   "cell_type": "code",
   "execution_count": 12,
   "metadata": {},
   "outputs": [
    {
     "data": {
      "image/png": "[encoded data removed]",
      "text/plain": [
       "<Figure size 432x288 with 1 Axes>"
      ]
     },
     "metadata": {},
     "output_type": "display_data"
    }
   ],
   "source": [
    "bbb.resample(\"M\").sum().sum(axis = 1).cumsum().plot()\n",
    "plt.title(\"combine pnl of all banking pairs\")\n",
    "plt.show()"
   ]
  },
  {
   "cell_type": "markdown",
   "metadata": {},
   "source": [
    "### creating dataframe with total pnl for every pair"
   ]
  },
  {
   "cell_type": "code",
   "execution_count": 13,
   "metadata": {
    "scrolled": true
   },
   "outputs": [],
   "source": [
    "total_pnl = pd.DataFrame(index = list(backtest.keys()))\n",
    "total_pnl[\"pair_pnl\"] = 0\n",
    "for key in backtest.keys():\n",
    "    total_pnl.loc[key] = backtest[key].pnl.sum() "
   ]
  },
  {
   "cell_type": "code",
   "execution_count": 14,
   "metadata": {},
   "outputs": [
    {
     "data": {
      "text/html": [
       "<div>\n",
       "<style scoped>\n",
       "    .dataframe tbody tr th:only-of-type {\n",
       "        vertical-align: middle;\n",
       "    }\n",
       "\n",
       "    .dataframe tbody tr th {\n",
       "        vertical-align: top;\n",
       "    }\n",
       "\n",
       "    .dataframe thead th {\n",
       "        text-align: right;\n",
       "    }\n",
       "</style>\n",
       "<table border=\"1\" class=\"dataframe\">\n",
       "  <thead>\n",
       "    <tr style=\"text-align: right;\">\n",
       "      <th></th>\n",
       "      <th>pair_pnl</th>\n",
       "    </tr>\n",
       "  </thead>\n",
       "  <tbody>\n",
       "    <tr>\n",
       "      <th>AXISBANK.csv_HDFC.csv</th>\n",
       "      <td>102.255413</td>\n",
       "    </tr>\n",
       "    <tr>\n",
       "      <th>AXISBANK.csv_HDFCBANK.csv</th>\n",
       "      <td>195.198444</td>\n",
       "    </tr>\n",
       "    <tr>\n",
       "      <th>AXISBANK.csv_KOTAKBANK.csv</th>\n",
       "      <td>58.053574</td>\n",
       "    </tr>\n",
       "    <tr>\n",
       "      <th>AXISBANK.csv_SBIN.csv</th>\n",
       "      <td>91.408650</td>\n",
       "    </tr>\n",
       "    <tr>\n",
       "      <th>BANKBARODA.csv_ICICIBANK.csv</th>\n",
       "      <td>24.386019</td>\n",
       "    </tr>\n",
       "    <tr>\n",
       "      <th>BANKBARODA.csv_SBIN.csv</th>\n",
       "      <td>20.991359</td>\n",
       "    </tr>\n",
       "    <tr>\n",
       "      <th>AXISBANK.csv_BANKNIFTY.csv</th>\n",
       "      <td>10899.312570</td>\n",
       "    </tr>\n",
       "    <tr>\n",
       "      <th>BANKNIFTY.csv_HDFC.csv</th>\n",
       "      <td>216.342742</td>\n",
       "    </tr>\n",
       "    <tr>\n",
       "      <th>BANKNIFTY.csv_HDFCBANK.csv</th>\n",
       "      <td>-33.737269</td>\n",
       "    </tr>\n",
       "    <tr>\n",
       "      <th>BANKNIFTY.csv_ICICIBANK.csv</th>\n",
       "      <td>4.923010</td>\n",
       "    </tr>\n",
       "    <tr>\n",
       "      <th>BANKNIFTY.csv_KOTAKBANK.csv</th>\n",
       "      <td>-82.849405</td>\n",
       "    </tr>\n",
       "    <tr>\n",
       "      <th>BANKNIFTY.csv_SBIN.csv</th>\n",
       "      <td>16.016611</td>\n",
       "    </tr>\n",
       "    <tr>\n",
       "      <th>HDFC.csv_HDFCBANK.csv</th>\n",
       "      <td>81.319804</td>\n",
       "    </tr>\n",
       "    <tr>\n",
       "      <th>HDFC.csv_KOTAKBANK.csv</th>\n",
       "      <td>111.442583</td>\n",
       "    </tr>\n",
       "    <tr>\n",
       "      <th>HDFC.CSV_HDFCBANK.csv</th>\n",
       "      <td>81.319804</td>\n",
       "    </tr>\n",
       "    <tr>\n",
       "      <th>HDFCBANK.csv_KOTAKBANK.csv</th>\n",
       "      <td>246.022894</td>\n",
       "    </tr>\n",
       "    <tr>\n",
       "      <th>ICICIBANK.csv_SBIN.csv</th>\n",
       "      <td>4.766457</td>\n",
       "    </tr>\n",
       "    <tr>\n",
       "      <th>BANKBARODA.csv_KOTAKBANK.csv</th>\n",
       "      <td>-87.736928</td>\n",
       "    </tr>\n",
       "  </tbody>\n",
       "</table>\n",
       "</div>"
      ],
      "text/plain": [
       "                                  pair_pnl\n",
       "AXISBANK.csv_HDFC.csv           102.255413\n",
       "AXISBANK.csv_HDFCBANK.csv       195.198444\n",
       "AXISBANK.csv_KOTAKBANK.csv       58.053574\n",
       "AXISBANK.csv_SBIN.csv            91.408650\n",
       "BANKBARODA.csv_ICICIBANK.csv     24.386019\n",
       "BANKBARODA.csv_SBIN.csv          20.991359\n",
       "AXISBANK.csv_BANKNIFTY.csv    10899.312570\n",
       "BANKNIFTY.csv_HDFC.csv          216.342742\n",
       "BANKNIFTY.csv_HDFCBANK.csv      -33.737269\n",
       "BANKNIFTY.csv_ICICIBANK.csv       4.923010\n",
       "BANKNIFTY.csv_KOTAKBANK.csv     -82.849405\n",
       "BANKNIFTY.csv_SBIN.csv           16.016611\n",
       "HDFC.csv_HDFCBANK.csv            81.319804\n",
       "HDFC.csv_KOTAKBANK.csv          111.442583\n",
       "HDFC.CSV_HDFCBANK.csv            81.319804\n",
       "HDFCBANK.csv_KOTAKBANK.csv      246.022894\n",
       "ICICIBANK.csv_SBIN.csv            4.766457\n",
       "BANKBARODA.csv_KOTAKBANK.csv    -87.736928"
      ]
     },
     "execution_count": 14,
     "metadata": {},
     "output_type": "execute_result"
    }
   ],
   "source": [
    "total_pnl"
   ]
  },
  {
   "cell_type": "markdown",
   "metadata": {},
   "source": [
    "### lets plot cumalative pnl of some profit making pairs "
   ]
  },
  {
   "cell_type": "code",
   "execution_count": 15,
   "metadata": {
    "scrolled": true
   },
   "outputs": [
    {
     "data": {
      "image/png": "[encoded data removed]",
      "text/plain": [
       "<Figure size 432x288 with 1 Axes>"
      ]
     },
     "metadata": {},
     "output_type": "display_data"
    }
   ],
   "source": [
    "backtest['AXISBANK.csv_HDFCBANK.csv'].pnl.resample(\"M\").sum().cumsum().plot()\n",
    "plt.title('AXISBANK.csv_HDFCBANK.csv on 15min 2016-2020')\n",
    "plt.show()"
   ]
  },
  {
   "cell_type": "code",
   "execution_count": 16,
   "metadata": {},
   "outputs": [
    {
     "data": {
      "image/png": "[encoded data removed]",
      "text/plain": [
       "<Figure size 432x288 with 1 Axes>"
      ]
     },
     "metadata": {},
     "output_type": "display_data"
    }
   ],
   "source": [
    "backtest['AXISBANK.csv_BANKNIFTY.csv'].pnl.resample(\"M\").sum().cumsum().plot()\n",
    "plt.title('AXISBANK.csv_BANKNIFTY.csv on 15min 2016-2020')\n",
    "plt.show()"
   ]
  },
  {
   "cell_type": "code",
   "execution_count": 17,
   "metadata": {},
   "outputs": [
    {
     "data": {
      "image/png": "[encoded data removed]",
      "text/plain": [
       "<Figure size 432x288 with 1 Axes>"
      ]
     },
     "metadata": {},
     "output_type": "display_data"
    }
   ],
   "source": [
    "backtest['HDFCBANK.csv_KOTAKBANK.csv'].pnl.resample(\"M\").sum().cumsum().plot()\n",
    "plt.title('HDFCBANK.csv_KOTAKBANK.csv on 15min 2016-2020')\n",
    "plt.show()"
   ]
  },
  {
   "cell_type": "markdown",
   "metadata": {},
   "source": [
    "### lets plot cumalative pnl of some loss making pairs "
   ]
  },
  {
   "cell_type": "code",
   "execution_count": 18,
   "metadata": {},
   "outputs": [
    {
     "data": {
      "image/png": "[encoded data removed]",
      "text/plain": [
       "<Figure size 432x288 with 1 Axes>"
      ]
     },
     "metadata": {},
     "output_type": "display_data"
    }
   ],
   "source": [
    "backtest['HDFC.csv_HDFCBANK.csv'].pnl.resample(\"M\").sum().cumsum().plot()\n",
    "plt.title('HDFC.csv_HDFCBANK.csv on 15min 2016-2020')\n",
    "plt.show()"
   ]
  },
  {
   "cell_type": "code",
   "execution_count": 19,
   "metadata": {},
   "outputs": [
    {
     "data": {
      "image/png": "[encoded data removed]",
      "text/plain": [
       "<Figure size 432x288 with 1 Axes>"
      ]
     },
     "metadata": {},
     "output_type": "display_data"
    }
   ],
   "source": [
    "backtest['AXISBANK.csv_KOTAKBANK.csv'].pnl.resample(\"M\").sum().cumsum().plot()\n",
    "plt.title('AXISBANK.csv_KOTAKBANK.csv on 15min 2016-2020')\n",
    "plt.show()"
   ]
  },
  {
   "cell_type": "code",
   "execution_count": null,
   "metadata": {},
   "outputs": [],
   "source": []
  },
  {
   "cell_type": "code",
   "execution_count": null,
   "metadata": {},
   "outputs": [],
   "source": []
  },
  {
   "cell_type": "code",
   "execution_count": null,
   "metadata": {},
   "outputs": [],
   "source": []
  },
  {
   "cell_type": "code",
   "execution_count": null,
   "metadata": {},
   "outputs": [],
   "source": []
  }
 ],
 "metadata": {
  "kernelspec": {
   "display_name": "Python 3",
   "language": "python",
   "name": "python3"
  },
  "language_info": {
   "codemirror_mode": {
    "name": "ipython",
    "version": 3
   },
   "file_extension": ".py",
   "mimetype": "text/x-python",
   "name": "python",
   "nbconvert_exporter": "python",
   "pygments_lexer": "ipython3",
   "version": "3.7.6"
  }
 },
 "nbformat": 4,
 "nbformat_minor": 4
}
